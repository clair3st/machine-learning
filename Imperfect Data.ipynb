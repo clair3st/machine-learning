{
 "cells": [
  {
   "cell_type": "markdown",
   "metadata": {},
   "source": [
    "# Analyze an Imperfect Dataset\n",
    "\n",
    "5 Feb 2017 | Claire Gatenby\n",
    "\n",
    "Source: https://data.seattle.gov/Public-Safety/Seattle-Police-Department-911-Incident-Response/3k2p-39jp/data"
   ]
  },
  {
   "cell_type": "code",
   "execution_count": 4,
   "metadata": {
    "collapsed": false
   },
   "outputs": [],
   "source": [
    "import pandas as pd\n",
    "from pygeocoder import Geocoder"
   ]
  },
  {
   "cell_type": "code",
   "execution_count": 5,
   "metadata": {
    "collapsed": false
   },
   "outputs": [],
   "source": [
    "data = pd.read_csv(\"Seattle_911_Incident_Response.csv\", low_memory=False)"
   ]
  },
  {
   "cell_type": "code",
   "execution_count": 6,
   "metadata": {
    "collapsed": false
   },
   "outputs": [
    {
     "data": {
      "text/plain": [
       "Index(['CAD CDW ID', 'CAD Event Number', 'General Offense Number',\n",
       "       'Event Clearance Code', 'Event Clearance Description',\n",
       "       'Event Clearance SubGroup', 'Event Clearance Group',\n",
       "       'Event Clearance Date', 'Hundred Block Location', 'District/Sector',\n",
       "       'Zone/Beat', 'Census Tract', 'Longitude', 'Latitude',\n",
       "       'Incident Location', 'Initial Type Description',\n",
       "       'Initial Type Subgroup', 'Initial Type Group', 'At Scene Time'],\n",
       "      dtype='object')"
      ]
     },
     "execution_count": 6,
     "metadata": {},
     "output_type": "execute_result"
    }
   ],
   "source": [
    "data.columns"
   ]
  },
  {
   "cell_type": "markdown",
   "metadata": {},
   "source": [
    "**Question 1:** What is the 5 most common subjects of 911 calls\n",
    "\n",
    "using panads `value_counts` method and `nlargest` can return the top 5 occurances for the 'Even Clearance Description' Column."
   ]
  },
  {
   "cell_type": "code",
   "execution_count": 14,
   "metadata": {
    "collapsed": false
   },
   "outputs": [
    {
     "data": {
      "text/plain": [
       "SUSPICIOUS PERSON                                156507\n",
       "DISTURBANCE, OTHER                               130919\n",
       "TRAFFIC (MOVING) VIOLATION                       101358\n",
       "PARKING VIOLATION (EXCEPT ABANDONED VEHICLES)    100512\n",
       "LIQUOR VIOLATION - INTOXICATED PERSON             56977\n",
       "Name: Event Clearance Description, dtype: int64"
      ]
     },
     "execution_count": 14,
     "metadata": {},
     "output_type": "execute_result"
    }
   ],
   "source": [
    "crime_type = data['Event Clearance Description'].value_counts()\n",
    "crime_type.nlargest(n=5)"
   ]
  },
  {
   "cell_type": "markdown",
   "metadata": {},
   "source": [
    "**Question 2:** What is the most common disctrict for  Parking Violation\n",
    "\n",
    "Using Geocoder package to perform a reverse geocode on the district latitude and longitude for the district with the highest count for Parking Violations."
   ]
  },
  {
   "cell_type": "code",
   "execution_count": 15,
   "metadata": {
    "collapsed": false
   },
   "outputs": [
    {
     "name": "stdout",
     "output_type": "stream",
     "text": [
      "10279 Parking violations in Central District\n"
     ]
    }
   ],
   "source": [
    "bad_parkers = data[(data['Event Clearance Description'] == 'PARKING VIOLATION (EXCEPT ABANDONED VEHICLES)')]\n",
    "district_counts = bad_parkers['District/Sector'].value_counts()\n",
    "max_dist = district_counts.nlargest(n=1)\n",
    "district = data[data['District/Sector'] == max_dist.keys()[0]].iloc[0]\n",
    "results = Geocoder.reverse_geocode(district['Latitude'], district['Longitude'])\n",
    "\n",
    "print(max_dist[0],\n",
    "      'Parking violations in',\n",
    "      results.current_data['address_components'][2]['long_name'])"
   ]
  },
  {
   "cell_type": "markdown",
   "metadata": {},
   "source": [
    "**Question 3**\n",
    "What is the most common disctrict for Car Prowls.\n",
    "\n",
    "Using Geocoder package to perform a reverse geocode on the district latitude and longitude for the district with the highest count for Car Prowls."
   ]
  },
  {
   "cell_type": "code",
   "execution_count": 16,
   "metadata": {
    "collapsed": false
   },
   "outputs": [
    {
     "name": "stdout",
     "output_type": "stream",
     "text": [
      "4939  Car Prowl thefts occured in  Central Business District\n"
     ]
    }
   ],
   "source": [
    "prowl = data[(data['Event Clearance Description'] == 'THEFT - CAR PROWL')]\n",
    "district = prowl['District/Sector'].value_counts()\n",
    "max_dist = district.nlargest(n=1)\n",
    "dist = data[data['District/Sector'] == max_dist.keys()[0]].iloc[0]\n",
    "results = Geocoder.reverse_geocode(dist['Latitude'], dist['Longitude'])\n",
    "\n",
    "print(district.nlargest(n=1)[0],\n",
    "      ' Car Prowl thefts occured in ',\n",
    "      results.current_data['address_components'][2]['long_name'])"
   ]
  },
  {
   "cell_type": "markdown",
   "metadata": {},
   "source": [
    "**Question 4:** What disctricts have the most and least 911 calls logged.\n",
    "\n",
    "Where are all the calls coming from? Using Geocoder package to perform a reverse geocode on the district latitude and longitude for the district with the highest count of logs in the dataset."
   ]
  },
  {
   "cell_type": "code",
   "execution_count": 17,
   "metadata": {
    "collapsed": false
   },
   "outputs": [
    {
     "name": "stdout",
     "output_type": "stream",
     "text": [
      "Central Business District  has the most 911 calls and  Westminster Triangle  has the least 911 calls.\n"
     ]
    }
   ],
   "source": [
    "district_counts = data['District/Sector'].value_counts()\n",
    "max_dist = district.nlargest(n=1)\n",
    "min_dist = district.nsmallest(n=1)\n",
    "\n",
    "max_dist = data[data['District/Sector'] == max_dist.keys()[0]].iloc[0]\n",
    "min_dist = data[data['District/Sector'] == min_dist.keys()[0]].iloc[1]\n",
    "\n",
    "min_neighborhood = Geocoder.reverse_geocode(min_dist['Latitude'], min_dist['Longitude'])\n",
    "max_neighborhood = Geocoder.reverse_geocode(max_dist['Latitude'], max_dist['Longitude'])\n",
    "\n",
    "print (max_neighborhood.current_data['address_components'][2]['long_name'],\n",
    "       ' has the most 911 calls and ',\n",
    "       min_neighborhood.current_data['address_components'][2]['long_name'],\n",
    "       ' has the least 911 calls.'\n",
    "      )"
   ]
  },
  {
   "cell_type": "markdown",
   "metadata": {},
   "source": [
    "**Question 5:** Logged calls reporting a Homicide by district/sector."
   ]
  },
  {
   "cell_type": "code",
   "execution_count": 18,
   "metadata": {
    "collapsed": false
   },
   "outputs": [],
   "source": [
    "import matplotlib.pyplot as plt\n",
    "import seaborn as sns"
   ]
  },
  {
   "cell_type": "code",
   "execution_count": 27,
   "metadata": {
    "collapsed": false
   },
   "outputs": [
    {
     "data": {
      "image/png": "[encoded data removed]",
      "text/plain": [
       "<matplotlib.figure.Figure at 0x117feacc0>"
      ]
     },
     "metadata": {},
     "output_type": "display_data"
    }
   ],
   "source": [
    "homicides = data[data['Event Clearance Description'] == 'HOMICIDE']\n",
    "sns.countplot(x='District/Sector', data=homicides, palette=\"Greens_d\")\n",
    "sns.plt.show()"
   ]
  },
  {
   "cell_type": "code",
   "execution_count": null,
   "metadata": {
    "collapsed": true
   },
   "outputs": [],
   "source": []
  }
 ],
 "metadata": {
  "kernelspec": {
   "display_name": "Python 3",
   "language": "python",
   "name": "python3"
  },
  "language_info": {
   "codemirror_mode": {
    "name": "ipython",
    "version": 3
   },
   "file_extension": ".py",
   "mimetype": "text/x-python",
   "name": "python",
   "nbconvert_exporter": "python",
   "pygments_lexer": "ipython3",
   "version": "3.5.2"
  }
 },
 "nbformat": 4,
 "nbformat_minor": 2
}
