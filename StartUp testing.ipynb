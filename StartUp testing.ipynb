{
 "cells": [
  {
   "cell_type": "markdown",
   "metadata": {},
   "source": [
    "## Startup 25 Test data"
   ]
  },
  {
   "cell_type": "code",
   "execution_count": 19,
   "metadata": {
    "collapsed": false
   },
   "outputs": [],
   "source": [
    "import pandas as pd\n",
    "import numpy as np\n",
    "data = pd.read_csv(\"Test Data - Sheet1.csv\", skiprows=[0], low_memory=False)\n",
    "np_data = np.loadtxt(\"housing.csv\", unpack=True)\n"
   ]
  },
  {
   "cell_type": "code",
   "execution_count": 20,
   "metadata": {
    "collapsed": false
   },
   "outputs": [
    {
     "data": {
      "text/plain": [
       "Index(['Company', 'Date Founded', 'Headquarters', 'Founders',\n",
       "       'Founders Prev Jobs', 'Percentage Founders at a top school', 'VCs',\n",
       "       '3 Month Page View Delta (% per million)',\n",
       "       '3 Month Page Views (per million)', '1 Month Page View Delta',\n",
       "       '1 Month Page Views', 'Total Jobs', 'Dev Jobs',\n",
       "       'Avg. Age of Dev Posting (days)', 'App Downloads', 'Total Funding',\n",
       "       'Last Round Date', 'Last Round (Series Letter)', 'Last Raise Amount',\n",
       "       'Time between last two funding rounds',\n",
       "       'Amount of [-2] Round (next-to-last)', 'Number of Employees',\n",
       "       'GeekWire Ranking', 'Class'],\n",
       "      dtype='object')"
      ]
     },
     "execution_count": 20,
     "metadata": {},
     "output_type": "execute_result"
    }
   ],
   "source": [
    "data.columns\n",
    "\n"
   ]
  },
  {
   "cell_type": "code",
   "execution_count": 22,
   "metadata": {
    "collapsed": false
   },
   "outputs": [
    {
     "data": {
      "text/plain": [
       "0        DataSphere\n",
       "1        Geocaching\n",
       "2         Acumatica\n",
       "3           Limeade\n",
       "4           Socrata\n",
       "5          iSpot.tv\n",
       "6            Qumulo\n",
       "7          Outreach\n",
       "8            Placed\n",
       "9            Kymeta\n",
       "10            Indix\n",
       "11     Point-Inside\n",
       "12         FlowPlay\n",
       "13           Convoy\n",
       "14        Glowforge\n",
       "15            Qorus\n",
       "16            Maana\n",
       "17       Apptentive\n",
       "18        MangoApps\n",
       "19             Hubb\n",
       "20             Add3\n",
       "21        Boatbound\n",
       "22      Audiosocket\n",
       "23         Skilljar\n",
       "24    Defense Storm\n",
       "Name: Company, dtype: object"
      ]
     },
     "execution_count": 22,
     "metadata": {},
     "output_type": "execute_result"
    }
   ],
   "source": [
    "\n"
   ]
  },
  {
   "cell_type": "code",
   "execution_count": null,
   "metadata": {
    "collapsed": true
   },
   "outputs": [],
   "source": []
  }
 ],
 "metadata": {
  "kernelspec": {
   "display_name": "Python 3",
   "language": "python",
   "name": "python3"
  },
  "language_info": {
   "codemirror_mode": {
    "name": "ipython",
    "version": 3
   },
   "file_extension": ".py",
   "mimetype": "text/x-python",
   "name": "python",
   "nbconvert_exporter": "python",
   "pygments_lexer": "ipython3",
   "version": "3.5.2"
  }
 },
 "nbformat": 4,
 "nbformat_minor": 2
}
